{
  "nbformat": 4,
  "nbformat_minor": 0,
  "metadata": {
    "colab": {
      "provenance": []
    },
    "kernelspec": {
      "name": "python3",
      "display_name": "Python 3"
    },
    "language_info": {
      "name": "python"
    }
  },
  "cells": [
    {
      "cell_type": "code",
      "execution_count": 3,
      "metadata": {
        "id": "ItDowAEhq3Bd"
      },
      "outputs": [],
      "source": [
        "# import what we need\n",
        "\n",
        "import pandas as pd\n",
        "\n",
        "# we need to load matplotlib!\n",
        "import matplotlib.pyplot as plt\n",
        "%matplotlib inline"
      ]
    },
    {
      "cell_type": "code",
      "source": [
        "# install the dataset via pip, python package manager\n",
        "!pip install palmerpenguins\n",
        "from palmerpenguins import load_penguins_raw\n",
        "\n",
        "# load dataframe into variable called penguins\n",
        "penguins = load_penguins_raw()"
      ],
      "metadata": {
        "id": "3HItwV89rAwB"
      },
      "execution_count": null,
      "outputs": []
    },
    {
      "cell_type": "code",
      "source": [
        "# use .head() to test and take a look @ the data\n",
        "# never a bad idea ...\n",
        "\n",
        "penguins.head()"
      ],
      "metadata": {
        "id": "Sj5BKzAkrCXd"
      },
      "execution_count": null,
      "outputs": []
    },
    {
      "cell_type": "code",
      "source": [
        "# how would a print a list of all the UNIQUE values of the \"Species\" column?\n"
      ],
      "metadata": {
        "id": "cM6Z5GH2rXp0"
      },
      "execution_count": null,
      "outputs": []
    },
    {
      "cell_type": "code",
      "source": [
        "# 📄 documentation cheatsheet!\n",
        "\n",
        "# colors: https://matplotlib.org/stable/gallery/color/named_colors.html (scroll down)\n",
        "\n",
        "# histogram: https://matplotlib.org/stable/api/_as_gen/matplotlib.pyplot.hist.html\n",
        "\n",
        "# pandas functions: https://pandas.pydata.org/docs/reference/general_functions.html\n",
        "\n",
        "# titles: https://matplotlib.org/stable/api/_as_gen/matplotlib.pyplot.title.html\n",
        "\n",
        "# axis labels: https://matplotlib.org/stable/api/_as_gen/matplotlib.pyplot.xlabel.html"
      ],
      "metadata": {
        "id": "97DkZ_SpranM"
      },
      "execution_count": null,
      "outputs": []
    },
    {
      "cell_type": "code",
      "source": [
        "# create a HISTOGRAM, which shows distribution of data, with the BODY MASS data for 3 species\n",
        "# on the y-axis, a count of the # of penguins\n",
        "# on the x-axis, a measure of body mass (g)\n",
        "# each species should have its own COLOR - choose wisely!\n",
        "# experiment with many colors until you find some that work well to you\n",
        "# how do the colors look next to each other? (Albers)\n",
        "# make sure to add a legend and a title to the histogram\n",
        "\n",
        "\n",
        "\n",
        "\n",
        "\n",
        "\n",
        "\n",
        "\n",
        "\n",
        "\n",
        "\n",
        "\n",
        "\n",
        "\n",
        "\n",
        "\n"
      ],
      "metadata": {
        "id": "pet9q4NxrMqZ"
      },
      "execution_count": null,
      "outputs": []
    },
    {
      "cell_type": "markdown",
      "source": [
        "Make any visualization experimenting with color from the oscillator in HYDRA (https://hydra.ojack.xyz)\n",
        "\n",
        "- Start with `osc().out()`\n",
        "- Then play with parameters in osc(width, speed, color offset)\n",
        "- Then add `.color(r, g, b)` - this looks like `osc().color(1, 1, 1).out()`\n",
        "- Then if time, play with some of the functions from this page of Geometry documentation: https://hydra.ojack.xyz/docs/docs/learning/video-synth-basics/coord/\n",
        "\n",
        "🎨 Add a link to your HYDRA experiment below:\n",
        "\n",
        "-\n",
        "\n",
        "\n",
        "\n",
        "\n",
        "\n",
        "\n",
        "\n",
        "\n"
      ],
      "metadata": {
        "id": "I_dgQtzmsfv9"
      }
    },
    {
      "cell_type": "markdown",
      "source": [
        "## 🪼 when you are finished! submit: 🖇️\n",
        "\n",
        "1. Download this notebook as an `.ipynb` file (File -> Download)\n",
        "2. Go to [this link](https://airtable.com/app6HibgdChLzfvNP/shrYWYvDm5Eviq8bY) and upload the file via the form.\n",
        "3. Then you're done! In-class labs are counted as participation credit."
      ],
      "metadata": {
        "id": "cwjOfO6ltE0q"
      }
    }
  ]
}