{
  "nbformat": 4,
  "nbformat_minor": 0,
  "metadata": {
    "colab": {
      "provenance": []
    },
    "kernelspec": {
      "name": "python3",
      "display_name": "Python 3"
    },
    "language_info": {
      "name": "python"
    }
  },
  "cells": [
    {
      "cell_type": "markdown",
      "source": [
        "# 🤖🕵️‍♂️ missing data visualization lab\n",
        "\n",
        "We are going to work with international fraud + corruption datasets, to experiment with visualizing and working with _missing_ data.\n",
        "\n",
        "\n",
        "*   First, read the context for this data, briefly here: [29 Leaks, Distributed Denial of Secrets](https://ddosecrets.com/wiki/29_Leaks)\n",
        "*   Next download 4 csv files from this leaked dataset:\n",
        "  1. https://bevel-near-handle.glitch.me/users.csv\n",
        "  2. https://bevel-near-handle.glitch.me/address.csv\n",
        "  3. https://bevel-near-handle.glitch.me/company_tax.csv\n",
        "  4. https://bevel-near-handle.glitch.me/company_registration_incorporation_order_form_lnk.csv\n",
        "\n",
        "* Add these files to your Google Colab file system. This is all the info you have, no data dictionary, etc.! That's what some of these leaked datasets look like.\n",
        "\n",
        "* Open the [missingno](https://github.com/ResidentMario/missingno/blob/master/README.md) documentation and keep it open to work on the lab\n",
        "\n",
        "* Imagine you are an investigator trying to make sense of this leaked dataset. What information is promising to help you understand the corruption that occurred @ [The London Office](https://ddosecrets.com/wiki/29_Leaks)?\n",
        "\n",
        "* Another optional article for context: from [Organized Crime and Corruption Reporting Project](https://www.occrp.org/en/project/29leaks-inside-a-london-company-mill)\n"
      ],
      "metadata": {
        "id": "rb5Q0rLXPxlm"
      }
    },
    {
      "cell_type": "code",
      "source": [
        "# first I need to install missingno\n",
        "!pip install missingno\n",
        "\n",
        "# now import some libaries!\n",
        "# we are going to need pandas, missingno, and matplotlib"
      ],
      "metadata": {
        "id": "cV439cquY8v-"
      },
      "execution_count": null,
      "outputs": []
    },
    {
      "cell_type": "code",
      "execution_count": null,
      "metadata": {
        "id": "NXCVIvQLPrWt"
      },
      "outputs": [],
      "source": [
        "# let's start with the users.csv file - load it in with pandas, and inspect it using .head()\n",
        "\n",
        "\n",
        "\n"
      ]
    },
    {
      "cell_type": "code",
      "source": [
        "# using the missingno library: https://github.com/ResidentMario/missingno/blob/master/README.md\n",
        "# create a MATRIX that shows which data values are missing in users.csv\n",
        "\n",
        "\n",
        "\n",
        "\n"
      ],
      "metadata": {
        "id": "rR0Ei5UxQyKz"
      },
      "execution_count": null,
      "outputs": []
    },
    {
      "cell_type": "code",
      "source": [
        "# hmmm ... some data is missing, but look back @ the .head() sample ... does everyone really have a middle name?\n",
        "# is this matrix currently accurate, where solid values are present in the dataset and blank white values are missing?\n",
        "\n",
        "# what transformation do you need to perform to create a more accurate visualization?\n",
        "\n",
        "\n"
      ],
      "metadata": {
        "id": "agHAqzCORcCn"
      },
      "execution_count": null,
      "outputs": []
    },
    {
      "cell_type": "code",
      "source": [
        "# @markdown hint if you need it:\n",
        "for column in df.select_dtypes(include=[object]):\n",
        "    df[column] = df[column].replace('SOMESTRING', float('nan'))"
      ],
      "metadata": {
        "cellView": "form",
        "id": "pi3W9pbgSyOe"
      },
      "execution_count": null,
      "outputs": []
    },
    {
      "cell_type": "code",
      "source": [
        "# now try running the missingno matrix function again, on the data from users.csv\n",
        "\n",
        "\n"
      ],
      "metadata": {
        "id": "GBCGYmELTT0c"
      },
      "execution_count": null,
      "outputs": []
    },
    {
      "cell_type": "code",
      "source": [
        "# try running the missingno BAR function, on the data from users.csv\n",
        "\n",
        "\n",
        "\n",
        "\n"
      ],
      "metadata": {
        "id": "URrSJYuwTfJz"
      },
      "execution_count": null,
      "outputs": []
    },
    {
      "cell_type": "code",
      "source": [
        "# try running the missingno HEATMAP function, on the data from users.csv\n",
        "\n",
        "\n",
        "\n"
      ],
      "metadata": {
        "id": "Q1po7yxVTkmK"
      },
      "execution_count": null,
      "outputs": []
    },
    {
      "cell_type": "code",
      "source": [
        "# try running the missingno DENDROGRAM function, on the data from users.csv\n",
        "\n",
        "\n",
        "\n",
        "\n"
      ],
      "metadata": {
        "id": "0-sZ0BWDTmGz"
      },
      "execution_count": null,
      "outputs": []
    },
    {
      "cell_type": "markdown",
      "source": [
        "🔎 some questions:\n",
        "\n",
        "*   Which columns are helpful in the users dataset?\n",
        "*   What kinds of information is missing?\n",
        "*   Which kinds of missingno visualizations did you find most helpful - and why?\n",
        "\n",
        "_write some notes here! double click to add_\n",
        "\n"
      ],
      "metadata": {
        "id": "HCYV9AIbTvpG"
      }
    },
    {
      "cell_type": "code",
      "source": [
        "# repeat the initial steps for the address.csv file: load in with pandas, inspect with .head()\n",
        "# and work with strings to replace with NULL values !!\n",
        "\n",
        "\n",
        "\n",
        "\n"
      ],
      "metadata": {
        "id": "ACCfdq_iT99M"
      },
      "execution_count": null,
      "outputs": []
    },
    {
      "cell_type": "code",
      "source": [
        "# create 1 missingno visualization from the data from address.csv (your choice)\n",
        "\n",
        "\n",
        "\n",
        "\n"
      ],
      "metadata": {
        "id": "SO2pBptaUi9p"
      },
      "execution_count": null,
      "outputs": []
    },
    {
      "cell_type": "code",
      "source": [
        "# create 1 MORE missingno visualization from the data from address.csv (your choice)\n",
        "\n",
        "\n",
        "\n",
        "\n",
        "\n"
      ],
      "metadata": {
        "id": "sf7ldy1cUq_-"
      },
      "execution_count": null,
      "outputs": []
    },
    {
      "cell_type": "code",
      "source": [
        "# repeat the initial steps for the company_registration_incorporation_order_form_lnk.csv file: load in with pandas, inspect with .head()\n",
        "# and work with strings to replace with NULL values !!\n",
        "\n",
        "\n",
        "\n",
        "\n"
      ],
      "metadata": {
        "id": "cafF9HwUUuOv"
      },
      "execution_count": null,
      "outputs": []
    },
    {
      "cell_type": "code",
      "source": [
        "# create 1 missingno visualization from the data from the registration csv file (your choice)\n",
        "\n",
        "\n",
        "\n",
        "\n"
      ],
      "metadata": {
        "id": "od8SuFkAVPLp"
      },
      "execution_count": null,
      "outputs": []
    },
    {
      "cell_type": "code",
      "source": [
        "# create 1 MORE missingno visualization from the data from registration csv file (your choice)\n",
        "\n",
        "\n",
        "\n",
        "\n",
        "\n"
      ],
      "metadata": {
        "id": "zO-0q4S3VTec"
      },
      "execution_count": null,
      "outputs": []
    },
    {
      "cell_type": "code",
      "source": [
        "# repeat the initial steps for the company_tax.csv file: load in with pandas, inspect with .head()\n",
        "# and work with strings to replace with NULL values !!\n",
        "\n",
        "\n",
        "\n",
        "\n",
        "\n"
      ],
      "metadata": {
        "id": "Oj4PEZKgVYxg"
      },
      "execution_count": null,
      "outputs": []
    },
    {
      "cell_type": "code",
      "source": [
        "# create 1 missingno visualization from the data from the company_tax.csv file (your choice)\n",
        "\n",
        "\n",
        "\n",
        "\n"
      ],
      "metadata": {
        "id": "OS_eXf86VcXU"
      },
      "execution_count": null,
      "outputs": []
    },
    {
      "cell_type": "code",
      "source": [
        "# create 1 MORE missingno visualization from the data from the company_tax.csv file (your choice)\n",
        "\n",
        "\n",
        "\n",
        "\n",
        "\n",
        "\n"
      ],
      "metadata": {
        "id": "73RqzdKFVhez"
      },
      "execution_count": null,
      "outputs": []
    },
    {
      "cell_type": "markdown",
      "source": [
        "### 🔎 some questions:\n",
        "\n",
        "*   Looking at all 4 of the files, what kinds of information are most filled out and available for you, i.e. _not_ missing?\n",
        "* What general categories of information are \"dead ends,\" basically not available in this dataset?\n",
        "* Is there 1 missingno graphic, on a certain file, that was most helpful to you?\n",
        "* If you are trying to get a picture of what happened at this company, what would be some next steps in your investigation?\n",
        "\n",
        "_write some notes here! double click to add_"
      ],
      "metadata": {
        "id": "Zo0iHbvsWO7x"
      }
    },
    {
      "cell_type": "code",
      "source": [
        "# create 1 custom visualization based on your findings from investigating with missingno\n",
        "# for example, top companies in the dataset? etc.\n",
        "# use the light-weight plotly express library to do this: https://plotly.com/python/plotly-express/#gallery\n",
        "\n",
        "import plotly.express as px\n",
        "\n",
        "\n",
        "\n",
        "\n",
        "\n",
        "\n"
      ],
      "metadata": {
        "id": "aY4fZH4lW41k"
      },
      "execution_count": 1,
      "outputs": []
    },
    {
      "cell_type": "code",
      "source": [
        "# write code that exports your last plotly visualization to an HTML\n",
        "# https://plotly.com/python/interactive-html-export/\n",
        "\n",
        "\n",
        "\n",
        "\n",
        "\n",
        "\n"
      ],
      "metadata": {
        "id": "2cIXCI0fY4fL"
      },
      "execution_count": null,
      "outputs": []
    }
  ]
}